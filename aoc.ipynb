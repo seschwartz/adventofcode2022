{
 "cells": [
  {
   "cell_type": "code",
   "execution_count": 41,
   "metadata": {},
   "outputs": [
    {
     "name": "stdout",
     "output_type": "stream",
     "text": [
      "65912\n"
     ]
    }
   ],
   "source": [
    "#day one part one\n",
    "with open(\"day_1.txt\") as f:\n",
    "    lines = f.read()\n",
    "tests = lines.split(\"\\n\\n\")\n",
    "\n",
    "elves={}\n",
    "for i in range(0,len(tests)):\n",
    "    elem=tests[i]\n",
    "    cals=elem.split('\\n')\n",
    "    cals_tot=sum(list(map(int, cals)))\n",
    "    elves[str(i)]=cals_tot\n",
    "\n",
    "max_value = max(elves.values ( ))\n",
    "print(max_value)\n"
   ]
  },
  {
   "cell_type": "code",
   "execution_count": 40,
   "metadata": {},
   "outputs": [
    {
     "data": {
      "text/plain": [
       "195625"
      ]
     },
     "execution_count": 40,
     "metadata": {},
     "output_type": "execute_result"
    }
   ],
   "source": [
    "#day one part two\n",
    "top_elves={}\n",
    "for i in range (0,3):    \n",
    "    max_value = max(elves.values ( ))\n",
    "    max_key = max(elves, key=elves.get)\n",
    "    top_elves[str(max_key)]=max_value\n",
    "    elves.pop(str(max_key))\n",
    "    i=i+1\n",
    "sum(top_elves.values())"
   ]
  },
  {
   "cell_type": "code",
   "execution_count": 67,
   "metadata": {},
   "outputs": [
    {
     "data": {
      "text/plain": [
       "13052"
      ]
     },
     "execution_count": 67,
     "metadata": {},
     "output_type": "execute_result"
    }
   ],
   "source": [
    "#day 2 part 1\n",
    "with open(\"day2.txt\") as f:\n",
    "    lines = f.read()\n",
    "rounds = lines.split(\"\\n\")\n",
    "\n",
    "rds=[]\n",
    "for elem in rounds:\n",
    "    el=elem.split()\n",
    "    rds.append(el)\n",
    "\n",
    "shape_score=0\n",
    "for item in rds:\n",
    "    if item[1]=='X':\n",
    "        shape_score+=1\n",
    "    if item[1]=='Y':\n",
    "        shape_score+=2\n",
    "    if item[1]=='Z':\n",
    "        shape_score+=3\n",
    "\n",
    "we_win=['A Y','C X','B Z']\n",
    "draw=['B Y','A X','C Z']\n",
    "\n",
    "game_score=0\n",
    "for elem in rounds:\n",
    "    if elem in we_win:\n",
    "        game_score+=6\n",
    "    if elem in draw:\n",
    "        game_score+=3\n",
    "        \n",
    "game_score+shape_score\n"
   ]
  },
  {
   "cell_type": "code",
   "execution_count": 68,
   "metadata": {},
   "outputs": [
    {
     "data": {
      "text/plain": [
       "13693"
      ]
     },
     "execution_count": 68,
     "metadata": {},
     "output_type": "execute_result"
    }
   ],
   "source": [
    "#day 2 part 2\n",
    "game_score=0\n",
    "for item in rds:\n",
    "    if item[1]=='Y':\n",
    "        game_score+=3\n",
    "    if item[1]=='Z':\n",
    "        game_score+=6\n",
    "\n",
    "shape_score=0\n",
    "rock=['A Y','B X','C Z']\n",
    "paper=['B Y','A Z','C X']\n",
    "scissors=['C Y','A X','B Z']\n",
    "\n",
    "for elem in rounds:\n",
    "    if elem in rock:\n",
    "        shape_score+=1\n",
    "    if elem in paper:\n",
    "        shape_score+=2\n",
    "    if elem in scissors:\n",
    "        shape_score+=3\n",
    "        \n",
    "shape_score+game_score"
   ]
  },
  {
   "cell_type": "code",
   "execution_count": 2,
   "metadata": {},
   "outputs": [
    {
     "data": {
      "text/plain": [
       "7878"
      ]
     },
     "execution_count": 2,
     "metadata": {},
     "output_type": "execute_result"
    }
   ],
   "source": [
    "#day 3 part 1\n",
    "with open(\"day3.txt\") as f:\n",
    "    lines = f.read()\n",
    "sacks = lines.split(\"\\n\")\n",
    "\n",
    "comps=[]\n",
    "for elem in sacks:\n",
    "    comps.append([elem[:len(elem)//2], elem[len(elem)//2:]])\n",
    "\n",
    "shared=[]\n",
    "for elem in comps:\n",
    "    common = ''.join(set(elem[0]).intersection(elem[1]))\n",
    "    shared.append(common)\n",
    "\n",
    "sum_priorities=0\n",
    "for elem in shared:\n",
    "    if elem.islower():\n",
    "        sum_priorities+=ord(elem)-96\n",
    "    else:\n",
    "        sum_priorities+=ord(elem)-38\n",
    "\n",
    "sum_priorities"
   ]
  },
  {
   "cell_type": "code",
   "execution_count": 3,
   "metadata": {},
   "outputs": [
    {
     "data": {
      "text/plain": [
       "2760"
      ]
     },
     "execution_count": 3,
     "metadata": {},
     "output_type": "execute_result"
    }
   ],
   "source": [
    "#day 3 part 2\n",
    "groups=[]\n",
    "groups=[sacks[i:i+3] for i in range(0, len(sacks),3)]\n",
    "\n",
    "shared=[]\n",
    "for elem in groups:\n",
    "    if len(elem)==3:\n",
    "        common = ''.join(set(elem[0]).intersection(elem[1]).intersection(elem[2]))\n",
    "        shared.append(common)\n",
    "\n",
    "sum_priorities=0\n",
    "for elem in shared:\n",
    "    if elem.islower():\n",
    "        sum_priorities+=ord(elem)-96\n",
    "    else:\n",
    "        sum_priorities+=ord(elem)-38\n",
    "\n",
    "sum_priorities"
   ]
  },
  {
   "cell_type": "code",
   "execution_count": 34,
   "metadata": {},
   "outputs": [
    {
     "data": {
      "text/plain": [
       "459"
      ]
     },
     "execution_count": 34,
     "metadata": {},
     "output_type": "execute_result"
    }
   ],
   "source": [
    "#day 4 part 1\n",
    "with open(\"day4.txt\") as f:\n",
    "    lines = f.read()\n",
    "pairs = lines.split(\"\\n\")\n",
    "\n",
    "minmax=[]\n",
    "for elem in pairs:\n",
    "    entry=[]\n",
    "    pair_split=elem.split(',')\n",
    "    for elem in pair_split:\n",
    "        el_split=elem.split('-')\n",
    "        for elem in el_split:\n",
    "            entry.append(elem)\n",
    "    minmax.append(entry)\n",
    "\n",
    "count=0\n",
    "for elem in minmax:\n",
    "    #first pair encloses second (or they're the same)\n",
    "    if int(elem[0]) <=int(elem[2]) and int(elem[1])>=int(elem[3]):\n",
    "        count+=1\n",
    "    #second pair encloses first\n",
    "    elif int(elem[0])>=int(elem[2]) and int(elem[1])<=int(elem[3]):\n",
    "        count+=1\n",
    "\n",
    "count"
   ]
  },
  {
   "cell_type": "code",
   "execution_count": 39,
   "metadata": {},
   "outputs": [
    {
     "data": {
      "text/plain": [
       "779"
      ]
     },
     "execution_count": 39,
     "metadata": {},
     "output_type": "execute_result"
    }
   ],
   "source": [
    "#day 4 part 2\n",
    "count=0\n",
    "lists_pairs=[]\n",
    "\n",
    "for elem in minmax:\n",
    "    lists=[]\n",
    "    l1=[*range(int(elem[0]),int(elem[1])+1)]\n",
    "    l2=[*range(int(elem[2]),int(elem[3])+1)]\n",
    "    lists.append(l1)\n",
    "    lists.append(l2)\n",
    "    lists_pairs.append(lists)\n",
    "\n",
    "for elem in lists_pairs:\n",
    "    if len(set(elem[0]).intersection(elem[1]))>0:\n",
    "        count+=1\n",
    "count"
   ]
  },
  {
   "cell_type": "code",
   "execution_count": 234,
   "metadata": {},
   "outputs": [
    {
     "data": {
      "text/plain": [
       "1681"
      ]
     },
     "execution_count": 234,
     "metadata": {},
     "output_type": "execute_result"
    }
   ],
   "source": [
    "#day 8 part 1\n",
    "import numpy as np\n",
    "with open(\"inputs/day8.txt\") as f:\n",
    "    lines = f.read()\n",
    "maps= lines.split(\"\\n\")\n",
    "vis_trees=0\n",
    "edge_vis=2*(len(maps))+2*(len(maps[0])-2)\n",
    "vis_trees+=edge_vis\n",
    "cols = len(maps[0])\n",
    "rows = len(maps)\n",
    "map = np.zeros((rows,cols))\n",
    "for f in range(0, len(maps)):\n",
    "    for g in range(0, len(maps[f])):\n",
    "        map[f][g] = int(maps[f][g])\n",
    "for j in range(1,len(map)-1):\n",
    "    for i in range(1,len(map[0])-1):\n",
    "        tree=map[i][j]\n",
    "        to_top=[map[f][j] for f in range(0,i)]\n",
    "        to_bottom=[map[f][j] for f in range(i+1,len(map))]\n",
    "        to_right=[map[i][f] for f in range(j+1,len(map[i]))]\n",
    "        to_left=[map[i][f] for f in range(0,j)]\n",
    "        if tree>max(to_top) or tree>max(to_bottom) or tree>max(to_right) or tree>max(to_left):\n",
    "            vis_trees+=1 \n",
    "vis_trees       \n"
   ]
  },
  {
   "cell_type": "code",
   "execution_count": 237,
   "metadata": {},
   "outputs": [
    {
     "data": {
      "text/plain": [
       "201684.0"
      ]
     },
     "execution_count": 237,
     "metadata": {},
     "output_type": "execute_result"
    }
   ],
   "source": [
    "#day 8 part 2\n",
    "map_scores = np.zeros((rows,cols))\n",
    "for j in range(1,len(map)):\n",
    "    for i in range(1,len(map[0])):\n",
    "        tree=map[i][j]\n",
    "        to_top=[map[f][j] for f in range(0,i)]\n",
    "        to_bottom=[map[f][j] for f in range(i+1,len(map))]\n",
    "        to_right=[map[i][f] for f in range(j+1,len(map[i]))]\n",
    "        to_left=[map[i][f] for f in range(0,j)]\n",
    "        br=0\n",
    "        for h in to_right:\n",
    "            if h>=tree:\n",
    "                br+=1\n",
    "                break\n",
    "            else:\n",
    "                br+=1\n",
    "        bl=0\n",
    "        for h in reversed(to_left):\n",
    "            if h>=tree:\n",
    "                bl+=1\n",
    "                break\n",
    "            else:\n",
    "                bl+=1\n",
    "        bt=0\n",
    "        for h in reversed(to_top):\n",
    "            if h>=tree:\n",
    "                bt+=1\n",
    "                break\n",
    "            else:\n",
    "                bt+=1\n",
    "        bb=0\n",
    "        for h in to_bottom:\n",
    "            if h>=tree:\n",
    "                bb+=1\n",
    "                break\n",
    "            else:\n",
    "                bb+=1\n",
    "        score=bt*bb*br*bl\n",
    "        map_scores[i][j]=score\n",
    "np.amax(map_scores)"
   ]
  }
 ],
 "metadata": {
  "kernelspec": {
   "display_name": "Python 3.9.6 64-bit",
   "language": "python",
   "name": "python3"
  },
  "language_info": {
   "codemirror_mode": {
    "name": "ipython",
    "version": 3
   },
   "file_extension": ".py",
   "mimetype": "text/x-python",
   "name": "python",
   "nbconvert_exporter": "python",
   "pygments_lexer": "ipython3",
   "version": "3.9.6"
  },
  "orig_nbformat": 4,
  "vscode": {
   "interpreter": {
    "hash": "31f2aee4e71d21fbe5cf8b01ff0e069b9275f58929596ceb00d14d90e3e16cd6"
   }
  }
 },
 "nbformat": 4,
 "nbformat_minor": 2
}
